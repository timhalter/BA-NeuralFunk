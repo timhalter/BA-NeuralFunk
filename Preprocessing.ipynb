{
  "cells": [
    {
      "cell_type": "markdown",
      "metadata": {
        "id": "view-in-github",
        "colab_type": "text"
      },
      "source": [
        "<a href=\"https://colab.research.google.com/github/timhalter/BA-NeuralFunk/blob/main/Preprocessing.ipynb\" target=\"_parent\"><img src=\"https://colab.research.google.com/assets/colab-badge.svg\" alt=\"Open In Colab\"/></a>"
      ]
    },
    {
      "cell_type": "code",
      "execution_count": null,
      "metadata": {
        "id": "-QwYR1bGTpxu"
      },
      "outputs": [],
      "source": [
        "# for debugging only -> https://zohaib.me/debugging-in-google-collab-notebook/\n",
        "# to set a breakpoint use the following method -> ipdb.set_trace(context=6)\n",
        "!pip install -Uqq ipdb\n",
        "import ipdb"
      ]
    },
    {
      "cell_type": "code",
      "execution_count": null,
      "metadata": {
        "id": "gU2RV15sJo8v"
      },
      "outputs": [],
      "source": [
        "import librosa\n",
        "import librosa.display\n",
        "from scipy import signal\n",
        "import numpy as np\n",
        "from glob import glob\n",
        "import os\n",
        "import sys\n",
        "import time\n",
        "import random\n",
        "from random import shuffle\n",
        "from tqdm import tqdm\n",
        "from tqdm import tnrange, tqdm_notebook\n",
        "import pickle as pkl\n",
        "import joblib\n",
        "import matplotlib.pyplot as plt\n",
        "%matplotlib inline\n",
        "\n",
        "N_FFT = 1024\n",
        "HOP_LENGTH = 256 \n",
        "SAMPLING_RATE = 16000\n",
        "MELSPEC_BANDS = 128\n",
        "\n",
        "sample_secs = 2\n",
        "num_samples = int(sample_secs * SAMPLING_RATE)\n",
        "\n",
        "# Function to read in an audio file and return a mel spectrogram\n",
        "def get_melspec(filepath_or_audio, hop_length=HOP_LENGTH, n_mels=MELSPEC_BANDS, n_samples=None, sample_secs=None):\n",
        "\n",
        "    y_tmp = np.zeros(n_samples)\n",
        "    \n",
        "    # Load a little more than necessary as a buffer\n",
        "    load_duration = None if sample_secs == None else 1.1 * sample_secs\n",
        "    \n",
        "    # Load audio file or take given input\n",
        "    if type(filepath_or_audio)==str:\n",
        "        y, sr = librosa.core.load(filepath_or_audio, sr = SAMPLING_RATE, mono=True, duration=load_duration)\n",
        "    else:\n",
        "        y = filepath_or_audio\n",
        "        sr = SAMPLING_RATE\n",
        "    \n",
        "    # Truncate or pad\n",
        "    if n_samples:\n",
        "        ipdb.set_trace(context=6)\n",
        "        if len(y) >= n_samples:\n",
        "            y_tmp = y[:n_samples]\n",
        "            lentgh_ratio = 1.0\n",
        "        else:\n",
        "            y_tmp[:len(y)] = y\n",
        "            lentgh_ratio = len(y)/n_samples\n",
        "        \n",
        "    else:\n",
        "        ipdb.set_trace(context=6)\n",
        "        y_tmp = y\n",
        "        length_ratio = 1.0        \n",
        "        \n",
        "    # sfft -> mel conversion\n",
        "    melspec = librosa.feature.melspectrogram(y=y_tmp, sr=sr,\n",
        "                n_fft=N_FFT, hop_length=hop_length, n_mels=n_mels)\n",
        "    S = librosa.power_to_db(melspec, np.max) \n",
        "        \n",
        "    return S, lentgh_ratio"
      ]
    },
    {
      "cell_type": "code",
      "execution_count": null,
      "metadata": {
        "colab": {
          "background_save": true,
          "base_uri": "https://localhost:8080/"
        },
        "id": "0l8LYet0Juii",
        "outputId": "fa6f253c-7795-4d7d-d7bb-824952145b2b"
      },
      "outputs": [
        {
          "name": "stdout",
          "output_type": "stream",
          "text": [
            "> \u001b[0;32m<ipython-input-18-93cabfebb83b>\u001b[0m(44)\u001b[0;36mget_melspec\u001b[0;34m()\u001b[0m\n",
            "\u001b[0;32m     41 \u001b[0;31m    \u001b[0;31m# Truncate or pad\u001b[0m\u001b[0;34m\u001b[0m\u001b[0;34m\u001b[0m\u001b[0;34m\u001b[0m\u001b[0m\n",
            "\u001b[0m\u001b[0;32m     42 \u001b[0;31m    \u001b[0;32mif\u001b[0m \u001b[0mn_samples\u001b[0m\u001b[0;34m:\u001b[0m\u001b[0;34m\u001b[0m\u001b[0;34m\u001b[0m\u001b[0m\n",
            "\u001b[0m\u001b[0;32m     43 \u001b[0;31m        \u001b[0mipdb\u001b[0m\u001b[0;34m.\u001b[0m\u001b[0mset_trace\u001b[0m\u001b[0;34m(\u001b[0m\u001b[0mcontext\u001b[0m\u001b[0;34m=\u001b[0m\u001b[0;36m6\u001b[0m\u001b[0;34m)\u001b[0m\u001b[0;34m\u001b[0m\u001b[0;34m\u001b[0m\u001b[0m\n",
            "\u001b[0m\u001b[0;32m---> 44 \u001b[0;31m        \u001b[0;32mif\u001b[0m \u001b[0mlen\u001b[0m\u001b[0;34m(\u001b[0m\u001b[0my\u001b[0m\u001b[0;34m)\u001b[0m \u001b[0;34m>=\u001b[0m \u001b[0mn_samples\u001b[0m\u001b[0;34m:\u001b[0m\u001b[0;34m\u001b[0m\u001b[0;34m\u001b[0m\u001b[0m\n",
            "\u001b[0m\u001b[0;32m     45 \u001b[0;31m            \u001b[0my_tmp\u001b[0m \u001b[0;34m=\u001b[0m \u001b[0my\u001b[0m\u001b[0;34m[\u001b[0m\u001b[0;34m:\u001b[0m\u001b[0mn_samples\u001b[0m\u001b[0;34m]\u001b[0m\u001b[0;34m\u001b[0m\u001b[0;34m\u001b[0m\u001b[0m\n",
            "\u001b[0m\u001b[0;32m     46 \u001b[0;31m            \u001b[0mlentgh_ratio\u001b[0m \u001b[0;34m=\u001b[0m \u001b[0;36m1.0\u001b[0m\u001b[0;34m\u001b[0m\u001b[0;34m\u001b[0m\u001b[0m\n",
            "\u001b[0m\n",
            "array([1.0000000e+00, 8.4142452e-01, 7.5270224e-01, ..., 2.7829516e-04,\n",
            "       3.0459856e-04, 2.9360715e-03], dtype=float32)\n",
            "32000\n",
            "32000\n"
          ]
        }
      ],
      "source": [
        "test_file = '/content/Fluffy Darabuka.wav'\n",
        "# test_file = '/Users/Shared/Maschine 2 Library/Samples/Instruments/Wind/Wodden Flute Samples/Wodden Flute A2.wav'\n",
        "spec, _ = get_melspec(test_file, n_samples=num_samples)\n",
        "print(spec.shape)\n",
        "\n",
        "plt.figure(figsize=(10, 4))\n",
        "librosa.display.specshow(spec, sr=SAMPLING_RATE, y_axis='mel', x_axis='time', hop_length=HOP_LENGTH)\n",
        "plt.colorbar(format='%+2.0f dB')\n",
        "plt.title('Amen Break Mel Spectrogram')\n",
        "plt.tight_layout()"
      ]
    },
    {
      "cell_type": "code",
      "execution_count": null,
      "metadata": {
        "colab": {
          "base_uri": "https://localhost:8080/",
          "height": 297
        },
        "id": "1UhhEdjiM6JV",
        "outputId": "a7d167b4-5691-47d1-a2a7-2e9ee6bcc983"
      },
      "outputs": [
        {
          "data": {
            "image/png": "[encoded data removed]",
            "text/plain": [
              "<Figure size 720x288 with 1 Axes>"
            ]
          },
          "metadata": {},
          "output_type": "display_data"
        }
      ],
      "source": [
        "y, _ = librosa.core.load('/content/Fluffy Darabuka.wav', sr = SAMPLING_RATE, mono=True, duration=3.0)\n",
        "plt.figure(figsize=(10, 4))\n",
        "plt.plot(y)\n",
        "# plt.colorbar(format='%+2.0f dB')\n",
        "plt.title('Amen Break')\n",
        "plt.tight_layout()"
      ]
    },
    {
      "cell_type": "code",
      "execution_count": null,
      "metadata": {
        "colab": {
          "base_uri": "https://localhost:8080/",
          "height": 297
        },
        "id": "T9ae-7ZiNEXj",
        "outputId": "64b751f9-8654-4d94-fbe8-cf511e6f7d15"
      },
      "outputs": [
        {
          "data": {
            "image/png": "[encoded data removed]",
            "text/plain": [
              "<Figure size 720x288 with 1 Axes>"
            ]
          },
          "metadata": {},
          "output_type": "display_data"
        }
      ],
      "source": [
        "from griffin_lim import griffin_lim\n",
        "import soundfile as sf\n",
        "\n",
        "reconstructed = griffin_lim(spec, 50, 0.1, N_FFT, HOP_LENGTH)\n",
        "plt.figure(figsize=(10, 4))\n",
        "plt.plot(reconstructed)\n",
        "# plt.colorbar(format='%+2.0f dB')\n",
        "plt.title('Amen Break Reconstructed')\n",
        "plt.tight_layout()\n",
        "sf.write('recon.wav', reconstructed/np.max(reconstructed), samplerate=SAMPLING_RATE)\n",
        "\n",
        "# librosa.output was removed in librosa version 0.8.0 -> new: soundfile.write\n",
        "# librosa.output.write_wav('recon.wav',reconstructed/np.max(reconstructed),sr=SAMPLING_RATE)"
      ]
    }
  ],
  "metadata": {
    "colab": {
      "collapsed_sections": [],
      "provenance": [],
      "authorship_tag": "ABX9TyMSy/x8fG5KHjr60IkZF4qJ",
      "include_colab_link": true
    },
    "kernelspec": {
      "display_name": "Python 3",
      "name": "python3"
    },
    "language_info": {
      "name": "python"
    }
  },
  "nbformat": 4,
  "nbformat_minor": 0
}